{
 "cells": [
  {
   "cell_type": "markdown",
   "id": "576731f7",
   "metadata": {},
   "source": [
    "**Example:**\n",
    "\n",
    "eggs = (1,3,8,3,2)\n",
    "\n",
    "my_listComprehension = [1/egg for egg in eggs]\n",
    "\n",
    "print(my_listComprehension)\n"
   ]
  },
  {
   "cell_type": "markdown",
   "id": "cf2623ae",
   "metadata": {},
   "source": [
    "# Insert here the module/library import statements "
   ]
  },
  {
   "cell_type": "code",
   "execution_count": 5,
   "id": "630d7e4d",
   "metadata": {},
   "outputs": [],
   "source": [
    "import math\n",
    "import random\n",
    "import os\n",
    "import sys"
   ]
  },
  {
   "cell_type": "markdown",
   "id": "59d96563",
   "metadata": {},
   "source": [
    "\n",
    "# Calculate the square number of the first 20 numbers. Use square as the name of the list.\n",
    "Remember to use list comprehensions and to print your results"
   ]
  },
  {
   "cell_type": "markdown",
   "id": "1207cb2c",
   "metadata": {},
   "source": []
  },
  {
   "cell_type": "code",
   "execution_count": 3,
   "id": "3513d304",
   "metadata": {},
   "outputs": [
    {
     "name": "stdout",
     "output_type": "stream",
     "text": [
      "[0, 1, 4, 9, 16, 25, 36, 49, 64, 81, 100, 121, 144, 169, 196, 225, 256, 289, 324, 361]\n"
     ]
    }
   ],
   "source": [
    "square = [x**2 for x in range (20)]\n",
    "print(square)"
   ]
  },
  {
   "cell_type": "markdown",
   "id": "b421e0cb",
   "metadata": {},
   "source": [
    "# Calculate the square root of the first 100 numbers. Use sqrt as the name of the list.\n",
    "You will probably need to install math library with pip and import it in this file.\n",
    "\n",
    "Remember to use list comprehensions and to print your results\n"
   ]
  },
  {
   "cell_type": "code",
   "execution_count": 6,
   "id": "dc49d097",
   "metadata": {
    "collapsed": true
   },
   "outputs": [
    {
     "name": "stdout",
     "output_type": "stream",
     "text": [
      "[0.0, 1.0, 1.4142135623730951, 1.7320508075688772, 2.0, 2.23606797749979, 2.449489742783178, 2.6457513110645907, 2.8284271247461903, 3.0, 3.1622776601683795, 3.3166247903554, 3.4641016151377544, 3.605551275463989, 3.7416573867739413, 3.872983346207417, 4.0, 4.123105625617661, 4.242640687119285, 4.358898943540674, 4.47213595499958, 4.58257569495584, 4.69041575982343, 4.795831523312719, 4.898979485566356, 5.0, 5.0990195135927845, 5.196152422706632, 5.291502622129181, 5.385164807134504, 5.477225575051661, 5.5677643628300215, 5.656854249492381, 5.744562646538029, 5.830951894845301, 5.916079783099616, 6.0, 6.082762530298219, 6.164414002968976, 6.244997998398398, 6.324555320336759, 6.4031242374328485, 6.48074069840786, 6.557438524302, 6.6332495807108, 6.708203932499369, 6.782329983125268, 6.855654600401044, 6.928203230275509, 7.0, 7.0710678118654755, 7.14142842854285, 7.211102550927978, 7.280109889280518, 7.3484692283495345, 7.416198487095663, 7.483314773547883, 7.54983443527075, 7.615773105863909, 7.681145747868608, 7.745966692414834, 7.810249675906654, 7.874007874011811, 7.937253933193772, 8.0, 8.06225774829855, 8.12403840463596, 8.18535277187245, 8.246211251235321, 8.306623862918075, 8.366600265340756, 8.426149773176359, 8.48528137423857, 8.54400374531753, 8.602325267042627, 8.660254037844387, 8.717797887081348, 8.774964387392123, 8.831760866327848, 8.888194417315589, 8.94427190999916, 9.0, 9.055385138137417, 9.1104335791443, 9.16515138991168, 9.219544457292887, 9.273618495495704, 9.327379053088816, 9.38083151964686, 9.433981132056603, 9.486832980505138, 9.539392014169456, 9.591663046625438, 9.643650760992955, 9.695359714832659, 9.746794344808963, 9.797958971132712, 9.848857801796104, 9.899494936611665, 9.9498743710662]\n"
     ]
    }
   ],
   "source": [
    "sqrt = [math.sqrt(x) for x in range (100)]\n",
    "print(sqrt)"
   ]
  },
  {
   "cell_type": "markdown",
   "id": "f4bfca8d",
   "metadata": {},
   "source": [
    "\n",
    "# Create this list [-10,-9,-8,-7,-6,-5,-4,-3,-2,-1,0]. Use my_list as the name of the list.\n",
    "Remember to use list comprehensions and to print your results"
   ]
  },
  {
   "cell_type": "code",
   "execution_count": 8,
   "id": "e23d87ea",
   "metadata": {},
   "outputs": [
    {
     "data": {
      "text/plain": [
       "[-10, -9, -8, -7, -6, -5, -4, -3, -2, -1, 0]"
      ]
     },
     "execution_count": 8,
     "metadata": {},
     "output_type": "execute_result"
    }
   ],
   "source": [
    "my_list = [-x for x in reversed(range(11))]\n",
    "my_list"
   ]
  },
  {
   "cell_type": "markdown",
   "id": "62592d9c",
   "metadata": {},
   "source": [
    "\n",
    "# Find the odd numbers from 1-100. Use odds as the name of the list. \n",
    "Remember to use list comprehensions and to print your results"
   ]
  },
  {
   "cell_type": "code",
   "execution_count": 9,
   "id": "d8d1c865",
   "metadata": {
    "collapsed": true
   },
   "outputs": [
    {
     "data": {
      "text/plain": [
       "[1,\n",
       " 3,\n",
       " 5,\n",
       " 7,\n",
       " 9,\n",
       " 11,\n",
       " 13,\n",
       " 15,\n",
       " 17,\n",
       " 19,\n",
       " 21,\n",
       " 23,\n",
       " 25,\n",
       " 27,\n",
       " 29,\n",
       " 31,\n",
       " 33,\n",
       " 35,\n",
       " 37,\n",
       " 39,\n",
       " 41,\n",
       " 43,\n",
       " 45,\n",
       " 47,\n",
       " 49,\n",
       " 51,\n",
       " 53,\n",
       " 55,\n",
       " 57,\n",
       " 59,\n",
       " 61,\n",
       " 63,\n",
       " 65,\n",
       " 67,\n",
       " 69,\n",
       " 71,\n",
       " 73,\n",
       " 75,\n",
       " 77,\n",
       " 79,\n",
       " 81,\n",
       " 83,\n",
       " 85,\n",
       " 87,\n",
       " 89,\n",
       " 91,\n",
       " 93,\n",
       " 95,\n",
       " 97,\n",
       " 99]"
      ]
     },
     "execution_count": 9,
     "metadata": {},
     "output_type": "execute_result"
    }
   ],
   "source": [
    "odds = [x for x in range(1,101) if x % 2 !=0]\n",
    "odds"
   ]
  },
  {
   "cell_type": "markdown",
   "id": "d8b74c2a",
   "metadata": {},
   "source": [
    "# Find all of the numbers from 1-1000 that are divisible by 7. Use divisible_by_seven as the name of the list.\n",
    "Remember to use list comprehensions and to print your results"
   ]
  },
  {
   "cell_type": "code",
   "execution_count": 10,
   "id": "6a9cfb8c",
   "metadata": {
    "collapsed": true
   },
   "outputs": [
    {
     "data": {
      "text/plain": [
       "[7,\n",
       " 14,\n",
       " 21,\n",
       " 28,\n",
       " 35,\n",
       " 42,\n",
       " 49,\n",
       " 56,\n",
       " 63,\n",
       " 70,\n",
       " 77,\n",
       " 84,\n",
       " 91,\n",
       " 98,\n",
       " 105,\n",
       " 112,\n",
       " 119,\n",
       " 126,\n",
       " 133,\n",
       " 140,\n",
       " 147,\n",
       " 154,\n",
       " 161,\n",
       " 168,\n",
       " 175,\n",
       " 182,\n",
       " 189,\n",
       " 196,\n",
       " 203,\n",
       " 210,\n",
       " 217,\n",
       " 224,\n",
       " 231,\n",
       " 238,\n",
       " 245,\n",
       " 252,\n",
       " 259,\n",
       " 266,\n",
       " 273,\n",
       " 280,\n",
       " 287,\n",
       " 294,\n",
       " 301,\n",
       " 308,\n",
       " 315,\n",
       " 322,\n",
       " 329,\n",
       " 336,\n",
       " 343,\n",
       " 350,\n",
       " 357,\n",
       " 364,\n",
       " 371,\n",
       " 378,\n",
       " 385,\n",
       " 392,\n",
       " 399,\n",
       " 406,\n",
       " 413,\n",
       " 420,\n",
       " 427,\n",
       " 434,\n",
       " 441,\n",
       " 448,\n",
       " 455,\n",
       " 462,\n",
       " 469,\n",
       " 476,\n",
       " 483,\n",
       " 490,\n",
       " 497,\n",
       " 504,\n",
       " 511,\n",
       " 518,\n",
       " 525,\n",
       " 532,\n",
       " 539,\n",
       " 546,\n",
       " 553,\n",
       " 560,\n",
       " 567,\n",
       " 574,\n",
       " 581,\n",
       " 588,\n",
       " 595,\n",
       " 602,\n",
       " 609,\n",
       " 616,\n",
       " 623,\n",
       " 630,\n",
       " 637,\n",
       " 644,\n",
       " 651,\n",
       " 658,\n",
       " 665,\n",
       " 672,\n",
       " 679,\n",
       " 686,\n",
       " 693,\n",
       " 700,\n",
       " 707,\n",
       " 714,\n",
       " 721,\n",
       " 728,\n",
       " 735,\n",
       " 742,\n",
       " 749,\n",
       " 756,\n",
       " 763,\n",
       " 770,\n",
       " 777,\n",
       " 784,\n",
       " 791,\n",
       " 798,\n",
       " 805,\n",
       " 812,\n",
       " 819,\n",
       " 826,\n",
       " 833,\n",
       " 840,\n",
       " 847,\n",
       " 854,\n",
       " 861,\n",
       " 868,\n",
       " 875,\n",
       " 882,\n",
       " 889,\n",
       " 896,\n",
       " 903,\n",
       " 910,\n",
       " 917,\n",
       " 924,\n",
       " 931,\n",
       " 938,\n",
       " 945,\n",
       " 952,\n",
       " 959,\n",
       " 966,\n",
       " 973,\n",
       " 980,\n",
       " 987,\n",
       " 994]"
      ]
     },
     "execution_count": 10,
     "metadata": {},
     "output_type": "execute_result"
    }
   ],
   "source": [
    "divisible_by_seven = [x for x in range(1,1001) if x % 7 == 0]\n",
    "divisible_by_seven"
   ]
  },
  {
   "cell_type": "markdown",
   "id": "6e6f21e0",
   "metadata": {},
   "source": [
    "# Remove all of the vowels in a string. Hint: make a list of the non-vowels. Use non_vowels as the name of the list.\n",
    "Remember to use list comprehensions and to print your results"
   ]
  },
  {
   "cell_type": "code",
   "execution_count": 11,
   "id": "43b38bd3",
   "metadata": {},
   "outputs": [],
   "source": [
    "# You can use the following test string but feel free to modify at your convenience\n",
    "\n",
    "teststring = 'Find all of the words in a string that are monosyllabic'"
   ]
  },
  {
   "cell_type": "code",
   "execution_count": 16,
   "id": "d5fc7426",
   "metadata": {},
   "outputs": [
    {
     "data": {
      "text/plain": [
       "'Fnd ll f th wrds n  strng tht r mnsyllbc'"
      ]
     },
     "execution_count": 16,
     "metadata": {},
     "output_type": "execute_result"
    }
   ],
   "source": [
    "vowels = 'aeiou'\n",
    "no_vowels = [x for x in teststring if x not in vowels]\n",
    "new_string = \"\".join(no_vowels)\n",
    "new_string"
   ]
  },
  {
   "cell_type": "markdown",
   "id": "277d491e",
   "metadata": {},
   "source": [
    "# Find the capital letters (and not white space) in the sentence 'The Quick Brown Fox Jumped Over The Lazy Dog'. \n",
    "- **Use capital_letters as the name of the list.**\n",
    "\n",
    "Remember to use list comprehensions and to print your results"
   ]
  },
  {
   "cell_type": "code",
   "execution_count": 19,
   "id": "3a43399c",
   "metadata": {},
   "outputs": [
    {
     "data": {
      "text/plain": [
       "['T', 'Q', 'B', 'F', 'J', 'O', 'T', 'L', 'D']"
      ]
     },
     "execution_count": 19,
     "metadata": {},
     "output_type": "execute_result"
    }
   ],
   "source": [
    "stringtest = 'The Quick Brown Fox Jumped Over The Lazy Dog'\n",
    "capital_letters = [x for x in stringtest if x.isupper() and x.isalpha()]\n",
    "capital_letters"
   ]
  },
  {
   "cell_type": "markdown",
   "id": "c2603719",
   "metadata": {},
   "source": [
    "# Find all the consonants in the sentence 'The quick brown fox jumped over the lazy dog'.\n",
    " - **Use consonants as the name of the list.**\n",
    " \n",
    "Remember to use list comprehensions and to print your results.\n"
   ]
  },
  {
   "cell_type": "code",
   "execution_count": 21,
   "id": "3ddb68df",
   "metadata": {
    "collapsed": true
   },
   "outputs": [
    {
     "data": {
      "text/plain": [
       "['T',\n",
       " 'h',\n",
       " ' ',\n",
       " 'q',\n",
       " 'c',\n",
       " 'k',\n",
       " ' ',\n",
       " 'b',\n",
       " 'r',\n",
       " 'w',\n",
       " 'n',\n",
       " ' ',\n",
       " 'f',\n",
       " 'x',\n",
       " ' ',\n",
       " 'j',\n",
       " 'm',\n",
       " 'p',\n",
       " 'd',\n",
       " ' ',\n",
       " 'v',\n",
       " 'r',\n",
       " ' ',\n",
       " 't',\n",
       " 'h',\n",
       " ' ',\n",
       " 'l',\n",
       " 'z',\n",
       " 'y',\n",
       " ' ',\n",
       " 'd',\n",
       " 'g']"
      ]
     },
     "execution_count": 21,
     "metadata": {},
     "output_type": "execute_result"
    }
   ],
   "source": [
    "vowels = 'aeiou'\n",
    "stringtest2 = 'The quick brown fox jumped over the lazy dog'\n",
    "consonants = [x for x in stringtest2 if x not in vowels and x.isalpha]\n",
    "consonants"
   ]
  },
  {
   "cell_type": "markdown",
   "id": "0f9c4004",
   "metadata": {},
   "source": [
    "# Find the folders you have in your madrid-oct-2018 local repo. Use files as name of the list.  \n",
    "\n",
    "**Hint: You will probably need to import os library and some of its modules. You will need to make some online research.**\n",
    "\n",
    "Remember to use list comprehensions and to print your results."
   ]
  },
  {
   "cell_type": "code",
   "execution_count": 24,
   "id": "22bb13eb",
   "metadata": {},
   "outputs": [
    {
     "data": {
      "text/plain": [
       "['.git',\n",
       " 'lab-bash',\n",
       " 'lab-control-flow',\n",
       " 'lab-errhand_listcomp',\n",
       " 'lab-error-handling',\n",
       " 'lab-functions',\n",
       " 'lab-tuple-set-dict',\n",
       " 'lab-vikings',\n",
       " 'lorem_copy',\n",
       " 'lorem_copy1',\n",
       " 'sed.txt']"
      ]
     },
     "execution_count": 24,
     "metadata": {},
     "output_type": "execute_result"
    }
   ],
   "source": [
    "files = os.listdir('/mnt/c/Users/Usuario/lb_ironhack')\n",
    "files"
   ]
  },
  {
   "cell_type": "markdown",
   "id": "2cdaa518",
   "metadata": {},
   "source": [
    "# Create 4 lists of 10 random numbers between 0 and 100 each. Use random_lists as the name of the list. \n",
    "**Hint: You will probably need to import random module**\n",
    "\n",
    "Remember to use list comprehensions and to print your results"
   ]
  },
  {
   "cell_type": "code",
   "execution_count": 30,
   "id": "120b29bd",
   "metadata": {
    "collapsed": true
   },
   "outputs": [
    {
     "data": {
      "text/plain": [
       "[[29,\n",
       "  62,\n",
       "  43,\n",
       "  61,\n",
       "  17,\n",
       "  78,\n",
       "  73,\n",
       "  39,\n",
       "  19,\n",
       "  34,\n",
       "  55,\n",
       "  22,\n",
       "  12,\n",
       "  91,\n",
       "  80,\n",
       "  4,\n",
       "  35,\n",
       "  3,\n",
       "  76,\n",
       "  32,\n",
       "  45,\n",
       "  2,\n",
       "  86,\n",
       "  95,\n",
       "  75,\n",
       "  82,\n",
       "  1,\n",
       "  84,\n",
       "  12,\n",
       "  32,\n",
       "  29,\n",
       "  94,\n",
       "  0,\n",
       "  37,\n",
       "  53,\n",
       "  97,\n",
       "  53,\n",
       "  99,\n",
       "  39,\n",
       "  46,\n",
       "  6,\n",
       "  57,\n",
       "  89,\n",
       "  18,\n",
       "  47,\n",
       "  52,\n",
       "  21,\n",
       "  31,\n",
       "  32,\n",
       "  34,\n",
       "  10,\n",
       "  52,\n",
       "  90,\n",
       "  90,\n",
       "  86,\n",
       "  22,\n",
       "  95,\n",
       "  39,\n",
       "  10,\n",
       "  57,\n",
       "  60,\n",
       "  8,\n",
       "  76,\n",
       "  99,\n",
       "  16,\n",
       "  51,\n",
       "  39,\n",
       "  69,\n",
       "  94,\n",
       "  98,\n",
       "  81,\n",
       "  76,\n",
       "  36,\n",
       "  20,\n",
       "  50,\n",
       "  100,\n",
       "  26,\n",
       "  83,\n",
       "  83,\n",
       "  36,\n",
       "  93,\n",
       "  46,\n",
       "  31,\n",
       "  98,\n",
       "  12,\n",
       "  86,\n",
       "  63,\n",
       "  47,\n",
       "  8,\n",
       "  35,\n",
       "  56,\n",
       "  51,\n",
       "  16,\n",
       "  13,\n",
       "  76,\n",
       "  64,\n",
       "  79,\n",
       "  10,\n",
       "  100,\n",
       "  36,\n",
       "  58],\n",
       " [85,\n",
       "  3,\n",
       "  64,\n",
       "  56,\n",
       "  52,\n",
       "  67,\n",
       "  61,\n",
       "  58,\n",
       "  61,\n",
       "  94,\n",
       "  67,\n",
       "  81,\n",
       "  9,\n",
       "  26,\n",
       "  6,\n",
       "  68,\n",
       "  72,\n",
       "  96,\n",
       "  72,\n",
       "  74,\n",
       "  95,\n",
       "  29,\n",
       "  74,\n",
       "  66,\n",
       "  69,\n",
       "  64,\n",
       "  74,\n",
       "  12,\n",
       "  67,\n",
       "  78,\n",
       "  5,\n",
       "  31,\n",
       "  34,\n",
       "  65,\n",
       "  59,\n",
       "  61,\n",
       "  72,\n",
       "  17,\n",
       "  32,\n",
       "  7,\n",
       "  11,\n",
       "  4,\n",
       "  9,\n",
       "  84,\n",
       "  56,\n",
       "  64,\n",
       "  56,\n",
       "  87,\n",
       "  92,\n",
       "  14,\n",
       "  21,\n",
       "  19,\n",
       "  73,\n",
       "  51,\n",
       "  18,\n",
       "  53,\n",
       "  27,\n",
       "  69,\n",
       "  66,\n",
       "  20,\n",
       "  70,\n",
       "  83,\n",
       "  20,\n",
       "  78,\n",
       "  21,\n",
       "  33,\n",
       "  84,\n",
       "  64,\n",
       "  63,\n",
       "  4,\n",
       "  55,\n",
       "  17,\n",
       "  86,\n",
       "  23,\n",
       "  86,\n",
       "  39,\n",
       "  61,\n",
       "  5,\n",
       "  60,\n",
       "  17,\n",
       "  15,\n",
       "  21,\n",
       "  36,\n",
       "  21,\n",
       "  62,\n",
       "  3,\n",
       "  84,\n",
       "  23,\n",
       "  19,\n",
       "  0,\n",
       "  63,\n",
       "  82,\n",
       "  35,\n",
       "  63,\n",
       "  95,\n",
       "  75,\n",
       "  73,\n",
       "  43,\n",
       "  87,\n",
       "  50,\n",
       "  95],\n",
       " [85,\n",
       "  12,\n",
       "  60,\n",
       "  12,\n",
       "  19,\n",
       "  2,\n",
       "  41,\n",
       "  11,\n",
       "  33,\n",
       "  36,\n",
       "  14,\n",
       "  33,\n",
       "  5,\n",
       "  23,\n",
       "  10,\n",
       "  76,\n",
       "  49,\n",
       "  89,\n",
       "  83,\n",
       "  76,\n",
       "  16,\n",
       "  8,\n",
       "  71,\n",
       "  75,\n",
       "  30,\n",
       "  32,\n",
       "  74,\n",
       "  30,\n",
       "  41,\n",
       "  96,\n",
       "  34,\n",
       "  44,\n",
       "  86,\n",
       "  43,\n",
       "  50,\n",
       "  37,\n",
       "  50,\n",
       "  8,\n",
       "  38,\n",
       "  86,\n",
       "  63,\n",
       "  89,\n",
       "  25,\n",
       "  30,\n",
       "  94,\n",
       "  41,\n",
       "  52,\n",
       "  28,\n",
       "  64,\n",
       "  8,\n",
       "  4,\n",
       "  88,\n",
       "  48,\n",
       "  69,\n",
       "  42,\n",
       "  22,\n",
       "  67,\n",
       "  68,\n",
       "  41,\n",
       "  85,\n",
       "  94,\n",
       "  97,\n",
       "  12,\n",
       "  92,\n",
       "  49,\n",
       "  19,\n",
       "  12,\n",
       "  40,\n",
       "  23,\n",
       "  0,\n",
       "  26,\n",
       "  8,\n",
       "  12,\n",
       "  64,\n",
       "  36,\n",
       "  90,\n",
       "  95,\n",
       "  69,\n",
       "  98,\n",
       "  86,\n",
       "  51,\n",
       "  96,\n",
       "  73,\n",
       "  57,\n",
       "  93,\n",
       "  79,\n",
       "  57,\n",
       "  83,\n",
       "  13,\n",
       "  94,\n",
       "  51,\n",
       "  65,\n",
       "  20,\n",
       "  100,\n",
       "  96,\n",
       "  1,\n",
       "  11,\n",
       "  58,\n",
       "  36,\n",
       "  42,\n",
       "  0],\n",
       " [40,\n",
       "  27,\n",
       "  58,\n",
       "  83,\n",
       "  62,\n",
       "  84,\n",
       "  79,\n",
       "  3,\n",
       "  61,\n",
       "  88,\n",
       "  23,\n",
       "  52,\n",
       "  40,\n",
       "  33,\n",
       "  6,\n",
       "  56,\n",
       "  75,\n",
       "  18,\n",
       "  46,\n",
       "  28,\n",
       "  6,\n",
       "  31,\n",
       "  63,\n",
       "  56,\n",
       "  43,\n",
       "  98,\n",
       "  29,\n",
       "  27,\n",
       "  89,\n",
       "  57,\n",
       "  88,\n",
       "  35,\n",
       "  71,\n",
       "  0,\n",
       "  6,\n",
       "  79,\n",
       "  16,\n",
       "  45,\n",
       "  89,\n",
       "  55,\n",
       "  37,\n",
       "  91,\n",
       "  21,\n",
       "  43,\n",
       "  60,\n",
       "  29,\n",
       "  77,\n",
       "  22,\n",
       "  55,\n",
       "  46,\n",
       "  5,\n",
       "  58,\n",
       "  48,\n",
       "  93,\n",
       "  19,\n",
       "  17,\n",
       "  80,\n",
       "  37,\n",
       "  10,\n",
       "  86,\n",
       "  59,\n",
       "  1,\n",
       "  31,\n",
       "  46,\n",
       "  37,\n",
       "  71,\n",
       "  58,\n",
       "  27,\n",
       "  47,\n",
       "  70,\n",
       "  95,\n",
       "  23,\n",
       "  53,\n",
       "  8,\n",
       "  62,\n",
       "  16,\n",
       "  60,\n",
       "  65,\n",
       "  23,\n",
       "  62,\n",
       "  61,\n",
       "  41,\n",
       "  78,\n",
       "  12,\n",
       "  89,\n",
       "  86,\n",
       "  36,\n",
       "  93,\n",
       "  69,\n",
       "  41,\n",
       "  39,\n",
       "  95,\n",
       "  73,\n",
       "  3,\n",
       "  81,\n",
       "  51,\n",
       "  77,\n",
       "  42,\n",
       "  49,\n",
       "  86,\n",
       "  95]]"
      ]
     },
     "execution_count": 30,
     "metadata": {},
     "output_type": "execute_result"
    }
   ],
   "source": [
    "random_lists = [[random.randint(0,100) for x in range(101)] for x in range(4)]\n",
    "random_lists"
   ]
  },
  {
   "cell_type": "markdown",
   "id": "b76ea171",
   "metadata": {},
   "source": [
    "# Flatten the following list of lists. Use flatten_list as the name of the output.\n",
    "\n",
    "Remember to use list comprehensions and to print your results\n"
   ]
  },
  {
   "cell_type": "code",
   "execution_count": 31,
   "id": "b3afebb7",
   "metadata": {
    "scrolled": true
   },
   "outputs": [
    {
     "data": {
      "text/plain": [
       "[[1, 2, 3], [4, 5, 6], [7, 8, 9]]"
      ]
     },
     "execution_count": 31,
     "metadata": {},
     "output_type": "execute_result"
    }
   ],
   "source": [
    "list_of_lists = [[1,2,3],[4,5,6],[7,8,9]]\n",
    "list_of_lists"
   ]
  },
  {
   "cell_type": "code",
   "execution_count": 32,
   "id": "b6bcef37",
   "metadata": {},
   "outputs": [
    {
     "data": {
      "text/plain": [
       "[1, 2, 3, 4, 5, 6, 7, 8, 9]"
      ]
     },
     "execution_count": 32,
     "metadata": {},
     "output_type": "execute_result"
    }
   ],
   "source": [
    "flatten_list = [x for y in list_of_lists for x in y]\n",
    "flatten_list"
   ]
  },
  {
   "cell_type": "markdown",
   "id": "53c86611",
   "metadata": {},
   "source": [
    "\n",
    "# Convert the numbers of the following nested list to floats. Use floats as the name of the list. \n",
    "\n",
    "Remember to use list comprehensions and to print your results."
   ]
  },
  {
   "cell_type": "code",
   "execution_count": 33,
   "id": "7087f44e",
   "metadata": {},
   "outputs": [],
   "source": [
    "list_of_lists = [['40', '20', '10', '30'], ['20', '20', '20', '20', '20', '30', '20'], \\\n",
    "['30', '20', '30', '50', '10', '30', '20', '20', '20'], ['100', '100'], ['100', '100', '100', '100', '100'], \\\n",
    "['100', '100', '100', '100']]"
   ]
  },
  {
   "cell_type": "code",
   "execution_count": 35,
   "id": "a932aff5",
   "metadata": {
    "collapsed": true
   },
   "outputs": [
    {
     "data": {
      "text/plain": [
       "[40.0,\n",
       " 20.0,\n",
       " 10.0,\n",
       " 30.0,\n",
       " 20.0,\n",
       " 20.0,\n",
       " 20.0,\n",
       " 20.0,\n",
       " 20.0,\n",
       " 30.0,\n",
       " 20.0,\n",
       " 30.0,\n",
       " 20.0,\n",
       " 30.0,\n",
       " 50.0,\n",
       " 10.0,\n",
       " 30.0,\n",
       " 20.0,\n",
       " 20.0,\n",
       " 20.0,\n",
       " 100.0,\n",
       " 100.0,\n",
       " 100.0,\n",
       " 100.0,\n",
       " 100.0,\n",
       " 100.0,\n",
       " 100.0,\n",
       " 100.0,\n",
       " 100.0,\n",
       " 100.0,\n",
       " 100.0]"
      ]
     },
     "execution_count": 35,
     "metadata": {},
     "output_type": "execute_result"
    }
   ],
   "source": [
    "floats = [float (int(x)) for y in list_of_lists for x in y]\n",
    "floats"
   ]
  },
  {
   "cell_type": "markdown",
   "id": "62272da6",
   "metadata": {},
   "source": [
    "# Handle the exception thrown by the code below by using try and except blocks. \n"
   ]
  },
  {
   "cell_type": "code",
   "execution_count": 51,
   "id": "b5980ab4",
   "metadata": {
    "scrolled": true
   },
   "outputs": [
    {
     "name": "stdout",
     "output_type": "stream",
     "text": [
      "you can square letters\n",
      "you can square letters\n",
      "you can square letters\n"
     ]
    }
   ],
   "source": [
    "for i in ['a','b','c']:\n",
    "    try:\n",
    "        print (i**2)\n",
    "    except TypeError:\n",
    "        print('you can square letters')"
   ]
  },
  {
   "cell_type": "markdown",
   "id": "bda76246",
   "metadata": {},
   "source": [
    "# Handle the exception thrown by the code below by using try and except blocks. \n",
    "\n",
    "Then use a finally block to print 'All Done.'\n",
    "\n",
    "Check in provided resources the type of error you may use. \n"
   ]
  },
  {
   "cell_type": "code",
   "execution_count": 38,
   "id": "441acd1c",
   "metadata": {},
   "outputs": [
    {
     "name": "stdout",
     "output_type": "stream",
     "text": [
      "Its ok\n"
     ]
    }
   ],
   "source": [
    "x = 5\n",
    "y = 0\n",
    "try:\n",
    "    z = x/y\n",
    "except ZeroDivisionError:\n",
    "    print('Its ok')"
   ]
  },
  {
   "cell_type": "markdown",
   "id": "85ea78c5",
   "metadata": {},
   "source": [
    "# Handle the exception thrown by the code below by using try and except blocks. \n",
    "\n",
    "Check in provided resources the type of error you may use. \n"
   ]
  },
  {
   "cell_type": "code",
   "execution_count": 39,
   "id": "783a8224",
   "metadata": {},
   "outputs": [
    {
     "name": "stdout",
     "output_type": "stream",
     "text": [
      "that list not have that elements, dummy\n"
     ]
    }
   ],
   "source": [
    "abc=[10,20,20]\n",
    "try:\n",
    "    print(abc[3])\n",
    "except IndexError:\n",
    "    print('that list not have that elements')"
   ]
  },
  {
   "cell_type": "markdown",
   "id": "10223640",
   "metadata": {},
   "source": [
    "# Handle at least two kind of different exceptions when dividing a couple of numbers provided by the user. \n",
    "\n",
    "**Hint: take a look on python input function.**\n",
    "\n",
    "Check in provided resources the type of error you may use. "
   ]
  },
  {
   "cell_type": "code",
   "execution_count": 43,
   "id": "3c1f141b",
   "metadata": {},
   "outputs": [
    {
     "name": "stdout",
     "output_type": "stream",
     "text": [
      "input a number: 3\n",
      "input another number: 4\n"
     ]
    }
   ],
   "source": [
    "option1 = input('input a number: ')\n",
    "option2 = input('input another number: ')\n",
    "try:\n",
    "    (float (option1)/float(option2))\n",
    "except ZeroDivisionError:\n",
    "    print('ok')"
   ]
  },
  {
   "cell_type": "markdown",
   "id": "5d712a55",
   "metadata": {},
   "source": [
    "# Handle the exception thrown by the code below by using try and except blocks. \n",
    "\n",
    "Check in provided resources the type of error you may use. "
   ]
  },
  {
   "cell_type": "code",
   "execution_count": 50,
   "id": "b73f824c",
   "metadata": {},
   "outputs": [
    {
     "name": "stdout",
     "output_type": "stream",
     "text": [
      "you dont have such file\n"
     ]
    }
   ],
   "source": [
    "try:\n",
    "    f = open('myfile.txt')\n",
    "    line = f.readline()\n",
    "    i = int(line.strip())\n",
    "except FileNotFoundError:\n",
    "    print('you dont have such file')\n",
    "except ValueError:\n",
    "    print('you cant convert that into an integer')"
   ]
  },
  {
   "cell_type": "markdown",
   "id": "a028ccb8",
   "metadata": {},
   "source": [
    "# Handle the exceptions that can be thrown by the code below using try and except blocks. \n",
    "\n",
    "**Hint: the file could not exist and the data could not be convertable to int**"
   ]
  },
  {
   "cell_type": "code",
   "execution_count": 49,
   "id": "5f639ab1",
   "metadata": {
    "scrolled": true
   },
   "outputs": [
    {
     "name": "stdout",
     "output_type": "stream",
     "text": [
      "its not available\n"
     ]
    }
   ],
   "source": [
    "try:\n",
    "    f = open('myfile.txt')\n",
    "    line = f.readline()\n",
    "    i = int(line.strip())\n",
    "except FileNotFoundError:\n",
    "    print('its not available')\n",
    "except ValueError:\n",
    "    print('you cant convert that into an integer')\n"
   ]
  },
  {
   "cell_type": "markdown",
   "id": "d695245b",
   "metadata": {},
   "source": [
    "# The following function can only run on a Linux system. \n",
    "The assert in this function will throw an exception if you call it on an operating system other than Linux.\n",
    "\n",
    "Handle this exception using **try and except** blocks.\n",
    "\n",
    "You will probably need to import sys "
   ]
  },
  {
   "cell_type": "code",
   "execution_count": 52,
   "id": "3f043ef6",
   "metadata": {},
   "outputs": [
    {
     "name": "stdout",
     "output_type": "stream",
     "text": [
      "Doing something.\n"
     ]
    }
   ],
   "source": [
    "def linux_interaction():\n",
    "    try:\n",
    "        assert ('linux' in sys.platform), \"Function can only run on Linux systems.\"\n",
    "        print('Doing something.')\n",
    "    except:\n",
    "        print(\"Can't run this on anything other  so than linux\")\n",
    "linux_interaction()"
   ]
  },
  {
   "cell_type": "code",
   "execution_count": null,
   "id": "1643bbed",
   "metadata": {},
   "outputs": [],
   "source": []
  },
  {
   "cell_type": "markdown",
   "id": "9310a60b",
   "metadata": {},
   "source": [
    "\n",
    "# Bonus Questions:"
   ]
  },
  {
   "cell_type": "markdown",
   "id": "2f06d3fd",
   "metadata": {},
   "source": [
    "You will need to make some research on dictionary comprehension to solve the following questions"
   ]
  },
  {
   "cell_type": "markdown",
   "id": "3108ff54",
   "metadata": {},
   "source": [
    "## Write a function that asks for an integer and prints the square of it. \n",
    "\n",
    "**Hint: we need to continually keep checking until we get an integer.**\n",
    "\n",
    "Use a while loop with a try,except, else block to account for incorrect inputs."
   ]
  },
  {
   "cell_type": "code",
   "execution_count": null,
   "id": "94c2e76e",
   "metadata": {},
   "outputs": [],
   "source": []
  },
  {
   "cell_type": "markdown",
   "id": "7139da39",
   "metadata": {},
   "source": [
    "\n",
    "## Find all of the numbers from 1-1000 that are divisible by any single digit besides 1 (2-9). \n",
    "\n",
    "Use results as the name of the list \n"
   ]
  },
  {
   "cell_type": "code",
   "execution_count": null,
   "id": "90d3aa37",
   "metadata": {},
   "outputs": [],
   "source": []
  },
  {
   "cell_type": "markdown",
   "id": "e4791228",
   "metadata": {},
   "source": [
    "## Define a customised exception to handle not accepted values. \n",
    "\n",
    "You have the following user inputs and the Num_of_sections can not be less than 2.\n",
    "\n",
    "**Hint: Create a class derived from the pre-defined Exception class in Python**"
   ]
  },
  {
   "cell_type": "code",
   "execution_count": 6,
   "id": "86fa19bf",
   "metadata": {},
   "outputs": [
    {
     "name": "stdout",
     "output_type": "stream",
     "text": [
      "Enter Total Marks Scored: ass\n"
     ]
    },
    {
     "ename": "ValueError",
     "evalue": "invalid literal for int() with base 10: 'ass'",
     "output_type": "error",
     "traceback": [
      "\u001b[0;31m---------------------------------------------------------------------------\u001b[0m",
      "\u001b[0;31mValueError\u001b[0m                                Traceback (most recent call last)",
      "\u001b[0;32m<ipython-input-6-94b26594c4c4>\u001b[0m in \u001b[0;36m<module>\u001b[0;34m\u001b[0m\n\u001b[0;32m----> 1\u001b[0;31m \u001b[0mTotal_Marks\u001b[0m \u001b[0;34m=\u001b[0m \u001b[0mint\u001b[0m\u001b[0;34m(\u001b[0m\u001b[0minput\u001b[0m\u001b[0;34m(\u001b[0m\u001b[0;34m\"Enter Total Marks Scored: \"\u001b[0m\u001b[0;34m)\u001b[0m\u001b[0;34m)\u001b[0m\u001b[0;34m\u001b[0m\u001b[0;34m\u001b[0m\u001b[0m\n\u001b[0m\u001b[1;32m      2\u001b[0m \u001b[0mNum_of_Sections\u001b[0m \u001b[0;34m=\u001b[0m \u001b[0mint\u001b[0m\u001b[0;34m(\u001b[0m\u001b[0minput\u001b[0m\u001b[0;34m(\u001b[0m\u001b[0;34m\"Enter Num of Sections: \"\u001b[0m\u001b[0;34m)\u001b[0m\u001b[0;34m)\u001b[0m\u001b[0;34m\u001b[0m\u001b[0;34m\u001b[0m\u001b[0m\n",
      "\u001b[0;31mValueError\u001b[0m: invalid literal for int() with base 10: 'ass'"
     ]
    }
   ],
   "source": [
    "Total_Marks = int(input(\"Enter Total Marks Scored: \")) \n",
    "Num_of_Sections = int(input(\"Enter Num of Sections: \"))"
   ]
  },
  {
   "cell_type": "code",
   "execution_count": null,
   "id": "f80bb764",
   "metadata": {},
   "outputs": [],
   "source": []
  }
 ],
 "metadata": {
  "kernelspec": {
   "display_name": "Python 3",
   "language": "python",
   "name": "python3"
  },
  "language_info": {
   "codemirror_mode": {
    "name": "ipython",
    "version": 3
   },
   "file_extension": ".py",
   "mimetype": "text/x-python",
   "name": "python",
   "nbconvert_exporter": "python",
   "pygments_lexer": "ipython3",
   "version": "3.8.8"
  },
  "toc": {
   "base_numbering": 1,
   "nav_menu": {},
   "number_sections": true,
   "sideBar": true,
   "skip_h1_title": false,
   "title_cell": "Table of Contents",
   "title_sidebar": "Contents",
   "toc_cell": false,
   "toc_position": {},
   "toc_section_display": true,
   "toc_window_display": false
  }
 },
 "nbformat": 4,
 "nbformat_minor": 5
}
